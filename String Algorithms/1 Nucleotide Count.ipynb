{
 "cells": [
  {
   "cell_type": "code",
   "execution_count": 1,
   "metadata": {},
   "outputs": [
    {
     "name": "stdout",
     "output_type": "stream",
     "text": [
      "TAACGACGCACGAGGGTAACTTTCAAAGTGTTGGGGCATGAACATCTACGAAGTACAGCCAAAAGGTGACTACTCCGTGTGAGACAGAGCTCTTTCGTATGCGGAACGTTGCGCTCCGACAGAGTTCAGCCGTCTTCTCTCAACGCCATTAGACGGCTGATTCTATAAGTGCAACTACAGAGCCACCAGACTTCATCCACTAGCTCGCAACTTACTAAGTGCTATATTGGCCTTAGATGGGCTACATAAATAAAACAGATACATGCCGAACTGTGTTAGCGGTGTTAGGCCGTTCCCACAGCATGGCACGTATCCTCCAGGTCACGTGCTAACTGTCATTAGGGCAGAACTAAGTACTCCGGTTCGACTTTAAGGATCACTGCCGGCCGATTATTGTGATGGATTAGATATCGTCAAAGAAATGCCGCCTGTTTCCGTTTCGGTAACACCTACCGCCAGCGTCACAAGTCGTTCCTTGAGGGAACGTTGGTGATTTGATCTCTCATATCCTCTGGTCAACCCAAGGAAACCCAAACTTTAAGTCTACGAGCTACAAATGTGACTGGACCTGCTACTATACGACGAGAAGCCACGGAAGTCCTGCTTCTTTTATGACTTGGATATGTGACGACCATCTTGGCACCAAGCGGTTTCTTGAGCAGCCCATTCGGTACAACGACCGTCACCACAGGCTCGGCCCGGAACCCCTGATAAACCTGCATAATGAGAAGACATTAATCCCGTTAATAGACTTTTTGCGCCGTTCACCATGTCGTGGAATATAGCAGACAGGATGACGGATTATACCTAAGGACAGTTGCAGAGACCCATACCTCCATCCGCCCCCCTGATCGCGTGCAGCAATGGGGTACAGCCCGGGCGCAACTCACTCAGTTTCGGGTTACATCAAGGGCGAGAGACACAAGACATCTAACGGGTAGCTCCGACCGTTTCCGCCGCGGGAGGTTCGTCATTTCACTGCGAGGA\n",
      "\n"
     ]
    }
   ],
   "source": [
    "file = open(r\"C:\\Users\\raobr\\Documents\\Project Files\\Rosalind Data\\String Algorithms Data\\rosalind_dna (1).txt\")\n",
    "dna = file.read()\n",
    "print(dna)"
   ]
  },
  {
   "cell_type": "code",
   "execution_count": 2,
   "metadata": {},
   "outputs": [
    {
     "name": "stdout",
     "output_type": "stream",
     "text": [
      "257\n",
      "262\n",
      "234\n",
      "234\n"
     ]
    }
   ],
   "source": [
    "count = [0,0,0,0]\n",
    "for n in dna:\n",
    "    if n == 'A':\n",
    "        count[0] += 1\n",
    "    elif n == 'C':\n",
    "        count[1] += 1\n",
    "    elif n == 'G':\n",
    "        count[2] += 1\n",
    "    elif n == 'T':\n",
    "        count[3] += 1\n",
    "    \n",
    "for i in count:\n",
    "    print(str(i)),   "
   ]
  }
 ],
 "metadata": {
  "kernelspec": {
   "display_name": "Python 3",
   "language": "python",
   "name": "python3"
  },
  "language_info": {
   "codemirror_mode": {
    "name": "ipython",
    "version": 3
   },
   "file_extension": ".py",
   "mimetype": "text/x-python",
   "name": "python",
   "nbconvert_exporter": "python",
   "pygments_lexer": "ipython3",
   "version": "3.6.5"
  }
 },
 "nbformat": 4,
 "nbformat_minor": 2
}
